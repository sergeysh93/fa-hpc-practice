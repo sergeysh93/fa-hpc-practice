{
  "nbformat": 4,
  "nbformat_minor": 0,
  "metadata": {
    "colab": {
      "provenance": [],
      "mount_file_id": "1OPLPXWQiMCIcMGS-CxnTsOMy50uTkZcL",
      "authorship_tag": "ABX9TyPCOvJBNLjFDZjgGGW/lwun",
      "include_colab_link": true
    },
    "kernelspec": {
      "name": "python3",
      "display_name": "Python 3"
    },
    "language_info": {
      "name": "python"
    }
  },
  "cells": [
    {
      "cell_type": "markdown",
      "metadata": {
        "id": "view-in-github",
        "colab_type": "text"
      },
      "source": [
        "<a href=\"https://colab.research.google.com/github/sergeysh93/fa-hpc-practice/blob/master/mpireduce.ipynb\" target=\"_parent\"><img src=\"https://colab.research.google.com/assets/colab-badge.svg\" alt=\"Open In Colab\"/></a>"
      ]
    },
    {
      "cell_type": "code",
      "execution_count": 1,
      "metadata": {
        "colab": {
          "base_uri": "https://localhost:8080/"
        },
        "id": "IWGFafTqTYXD",
        "outputId": "d1568fbd-a2f0-4149-af84-9908273d61e4"
      },
      "outputs": [
        {
          "output_type": "stream",
          "name": "stdout",
          "text": [
            "Collecting mpi4py\n",
            "  Downloading mpi4py-3.1.6.tar.gz (2.4 MB)\n",
            "\u001b[2K     \u001b[90m━━━━━━━━━━━━━━━━━━━━━━━━━━━━━━━━━━━━━━━━\u001b[0m \u001b[32m2.4/2.4 MB\u001b[0m \u001b[31m8.0 MB/s\u001b[0m eta \u001b[36m0:00:00\u001b[0m\n",
            "\u001b[?25h  Installing build dependencies ... \u001b[?25l\u001b[?25hdone\n",
            "  Getting requirements to build wheel ... \u001b[?25l\u001b[?25hdone\n",
            "  Preparing metadata (pyproject.toml) ... \u001b[?25l\u001b[?25hdone\n",
            "Building wheels for collected packages: mpi4py\n",
            "  Building wheel for mpi4py (pyproject.toml) ... \u001b[?25l\u001b[?25hdone\n",
            "  Created wheel for mpi4py: filename=mpi4py-3.1.6-cp310-cp310-linux_x86_64.whl size=2746322 sha256=0541be69c5b265038fa72f24b59dbdd6843b97e20ede84260305e256fe608236\n",
            "  Stored in directory: /root/.cache/pip/wheels/4c/ca/89/8fc1fb1c620afca13bb41c630b1f948bbf446e0aaa4b762e10\n",
            "Successfully built mpi4py\n",
            "Installing collected packages: mpi4py\n",
            "Successfully installed mpi4py-3.1.6\n"
          ]
        }
      ],
      "source": [
        "! pip install mpi4py"
      ]
    },
    {
      "cell_type": "code",
      "source": [
        "%%writefile mpireduce.py\n",
        "from mpi4py import MPI\n",
        "import numpy as np\n",
        "\n",
        "def main():\n",
        "    comm = MPI.COMM_WORLD\n",
        "    rank = comm.Get_rank()\n",
        "    size = comm.Get_size()\n",
        "\n",
        "    # Генерация случайного числа на каждом процессе\n",
        "    random_number = np.random.randint(0, 100)\n",
        "    print(f\"Процесс {rank}: Сгенерированное случайное число - {random_number}\")\n",
        "\n",
        "    # Поиск минимального значения среди всех процессов с помощью reduce\n",
        "    min_value = comm.reduce(random_number, op=MPI.MIN, root=0)\n",
        "\n",
        "    # Вывод минимального значения на процессе с рангом 0\n",
        "    if rank == 0:\n",
        "        print(f\"Минимальное значение: {min_value}\")\n",
        "\n",
        "########## Run the main function\n",
        "main()"
      ],
      "metadata": {
        "colab": {
          "base_uri": "https://localhost:8080/"
        },
        "id": "L80dm2GeYbFG",
        "outputId": "fdefe776-2761-4365-86fa-e0bb275d7393"
      },
      "execution_count": 2,
      "outputs": [
        {
          "output_type": "stream",
          "name": "stdout",
          "text": [
            "Writing mpireduce.py\n"
          ]
        }
      ]
    },
    {
      "cell_type": "code",
      "source": [
        "! mpiexec --allow-run-as-root --oversubscribe -np 8 python \"/content/mpireduce.py\""
      ],
      "metadata": {
        "colab": {
          "base_uri": "https://localhost:8080/"
        },
        "id": "i-UzerGTYb1c",
        "outputId": "9e13a8ef-5ff5-4c3f-e15a-d315a00725ee"
      },
      "execution_count": 3,
      "outputs": [
        {
          "output_type": "stream",
          "name": "stdout",
          "text": [
            "Процесс 6: Сгенерированное случайное число - 65\n",
            "Процесс 1: Сгенерированное случайное число - 87\n",
            "Процесс 5: Сгенерированное случайное число - 59\n",
            "Процесс 3: Сгенерированное случайное число - 85\n",
            "Процесс 7: Сгенерированное случайное число - 5\n",
            "Процесс 4: Сгенерированное случайное число - 78\n",
            "Процесс 0: Сгенерированное случайное число - 74\n",
            "Процесс 2: Сгенерированное случайное число - 2\n",
            "Минимальное значение: 2\n"
          ]
        }
      ]
    },
    {
      "cell_type": "code",
      "source": [],
      "metadata": {
        "id": "qU1k3Gircf5o"
      },
      "execution_count": null,
      "outputs": []
    }
  ]
}