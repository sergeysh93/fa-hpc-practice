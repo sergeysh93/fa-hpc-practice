{
  "nbformat": 4,
  "nbformat_minor": 0,
  "metadata": {
    "colab": {
      "provenance": [],
      "mount_file_id": "1OPLPXWQiMCIcMGS-CxnTsOMy50uTkZcL",
      "authorship_tag": "ABX9TyNguMFb6Pi39/O8xhLaqFKu",
      "include_colab_link": true
    },
    "kernelspec": {
      "name": "python3",
      "display_name": "Python 3"
    },
    "language_info": {
      "name": "python"
    }
  },
  "cells": [
    {
      "cell_type": "markdown",
      "metadata": {
        "id": "view-in-github",
        "colab_type": "text"
      },
      "source": [
        "<a href=\"https://colab.research.google.com/github/sergeysh93/fa-hpc-practice/blob/master/runmpi.ipynb\" target=\"_parent\"><img src=\"https://colab.research.google.com/assets/colab-badge.svg\" alt=\"Open In Colab\"/></a>"
      ]
    },
    {
      "cell_type": "code",
      "execution_count": 7,
      "metadata": {
        "colab": {
          "base_uri": "https://localhost:8080/"
        },
        "id": "IWGFafTqTYXD",
        "outputId": "c4e92726-ea63-4c53-d469-8ad448deef85"
      },
      "outputs": [
        {
          "output_type": "stream",
          "name": "stdout",
          "text": [
            "Collecting mpi4py\n",
            "  Downloading mpi4py-3.1.6.tar.gz (2.4 MB)\n",
            "\u001b[2K     \u001b[90m━━━━━━━━━━━━━━━━━━━━━━━━━━━━━━━━━━━━━━━━\u001b[0m \u001b[32m2.4/2.4 MB\u001b[0m \u001b[31m24.6 MB/s\u001b[0m eta \u001b[36m0:00:00\u001b[0m\n",
            "\u001b[?25h  Installing build dependencies ... \u001b[?25l\u001b[?25hdone\n",
            "  Getting requirements to build wheel ... \u001b[?25l\u001b[?25hdone\n",
            "  Preparing metadata (pyproject.toml) ... \u001b[?25l\u001b[?25hdone\n",
            "Building wheels for collected packages: mpi4py\n",
            "  Building wheel for mpi4py (pyproject.toml) ... \u001b[?25l\u001b[?25hdone\n",
            "  Created wheel for mpi4py: filename=mpi4py-3.1.6-cp310-cp310-linux_x86_64.whl size=2746299 sha256=9c92a8fa0aecd4dccf57deff6235103da0a9472362208121073fb8089f8ddd7e\n",
            "  Stored in directory: /root/.cache/pip/wheels/4c/ca/89/8fc1fb1c620afca13bb41c630b1f948bbf446e0aaa4b762e10\n",
            "Successfully built mpi4py\n",
            "Installing collected packages: mpi4py\n",
            "Successfully installed mpi4py-3.1.6\n"
          ]
        }
      ],
      "source": [
        "! pip install mpi4py"
      ]
    },
    {
      "cell_type": "code",
      "source": [
        "%%writefile mpibcast.py\n",
        "from mpi4py import MPI\n",
        "import cmath\n",
        "\n",
        "def main():\n",
        "    comm = MPI.COMM_WORLD\n",
        "    rank = comm.Get_rank()\n",
        "    size = comm.Get_size()\n",
        "\n",
        "    dct = {\n",
        "        \"key1\" : [1, 0.5, cmath.sqrt(-1)],\n",
        "        \"key2\" : (\"str1\", \"str2\")\n",
        "    }\n",
        "    if rank == 0:\n",
        "        variable_to_share = dct\n",
        "    else:\n",
        "        variable_to_share = None\n",
        "\n",
        "    # Отсылка значения всем, в т.ч. и себе\n",
        "    variable_to_share = comm.bcast(variable_to_share, root=0)\n",
        "\n",
        "    print(f\"process {rank} variable shared  {variable_to_share}\")\n",
        "\n",
        "########## Run the main function\n",
        "main()"
      ],
      "metadata": {
        "colab": {
          "base_uri": "https://localhost:8080/"
        },
        "id": "L80dm2GeYbFG",
        "outputId": "895f6e1e-9ae1-4a46-ce09-91c675cdc6ef"
      },
      "execution_count": 25,
      "outputs": [
        {
          "output_type": "stream",
          "name": "stdout",
          "text": [
            "Overwriting mpibcast.py\n"
          ]
        }
      ]
    },
    {
      "cell_type": "code",
      "source": [
        "! mpiexec --allow-run-as-root --oversubscribe -np 8 python \"/content/mpibcast.py\""
      ],
      "metadata": {
        "colab": {
          "base_uri": "https://localhost:8080/"
        },
        "id": "i-UzerGTYb1c",
        "outputId": "f62d371c-d180-4e0e-8866-95da5033e992"
      },
      "execution_count": 26,
      "outputs": [
        {
          "output_type": "stream",
          "name": "stdout",
          "text": [
            "process 0 variable shared  {'key1': [1, 0.5, 1j], 'key2': ('str1', 'str2')}\n",
            "process 3 variable shared  {'key1': [1, 0.5, 1j], 'key2': ('str1', 'str2')}\n",
            "process 2 variable shared  {'key1': [1, 0.5, 1j], 'key2': ('str1', 'str2')}\n",
            "process 1 variable shared  {'key1': [1, 0.5, 1j], 'key2': ('str1', 'str2')}\n",
            "process 4 variable shared  {'key1': [1, 0.5, 1j], 'key2': ('str1', 'str2')}\n",
            "process 6 variable shared  {'key1': [1, 0.5, 1j], 'key2': ('str1', 'str2')}\n",
            "process 5 variable shared  {'key1': [1, 0.5, 1j], 'key2': ('str1', 'str2')}\n",
            "process 7 variable shared  {'key1': [1, 0.5, 1j], 'key2': ('str1', 'str2')}\n"
          ]
        }
      ]
    },
    {
      "cell_type": "code",
      "source": [],
      "metadata": {
        "id": "qU1k3Gircf5o"
      },
      "execution_count": 20,
      "outputs": []
    }
  ]
}