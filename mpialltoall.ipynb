{
  "nbformat": 4,
  "nbformat_minor": 0,
  "metadata": {
    "colab": {
      "provenance": [],
      "mount_file_id": "1OPLPXWQiMCIcMGS-CxnTsOMy50uTkZcL",
      "authorship_tag": "ABX9TyOajXSXbg17VmeH5TZiDUWF",
      "include_colab_link": true
    },
    "kernelspec": {
      "name": "python3",
      "display_name": "Python 3"
    },
    "language_info": {
      "name": "python"
    }
  },
  "cells": [
    {
      "cell_type": "markdown",
      "metadata": {
        "id": "view-in-github",
        "colab_type": "text"
      },
      "source": [
        "<a href=\"https://colab.research.google.com/github/sergeysh93/fa-hpc-practice/blob/master/mpialltoall.ipynb\" target=\"_parent\"><img src=\"https://colab.research.google.com/assets/colab-badge.svg\" alt=\"Open In Colab\"/></a>"
      ]
    },
    {
      "cell_type": "code",
      "execution_count": 1,
      "metadata": {
        "colab": {
          "base_uri": "https://localhost:8080/"
        },
        "id": "IWGFafTqTYXD",
        "outputId": "8d438b74-7794-4be3-c89e-229bf623884d"
      },
      "outputs": [
        {
          "output_type": "stream",
          "name": "stdout",
          "text": [
            "Collecting mpi4py\n",
            "  Downloading mpi4py-3.1.6.tar.gz (2.4 MB)\n",
            "\u001b[2K     \u001b[90m━━━━━━━━━━━━━━━━━━━━━━━━━━━━━━━━━━━━━━━━\u001b[0m \u001b[32m2.4/2.4 MB\u001b[0m \u001b[31m11.3 MB/s\u001b[0m eta \u001b[36m0:00:00\u001b[0m\n",
            "\u001b[?25h  Installing build dependencies ... \u001b[?25l\u001b[?25hdone\n",
            "  Getting requirements to build wheel ... \u001b[?25l\u001b[?25hdone\n",
            "  Preparing metadata (pyproject.toml) ... \u001b[?25l\u001b[?25hdone\n",
            "Building wheels for collected packages: mpi4py\n",
            "  Building wheel for mpi4py (pyproject.toml) ... \u001b[?25l\u001b[?25hdone\n",
            "  Created wheel for mpi4py: filename=mpi4py-3.1.6-cp310-cp310-linux_x86_64.whl size=2746317 sha256=2a401ec2cca2a3560a25a5e47fbd8c99a1faae354865b3c0f16b833e917a36d5\n",
            "  Stored in directory: /root/.cache/pip/wheels/4c/ca/89/8fc1fb1c620afca13bb41c630b1f948bbf446e0aaa4b762e10\n",
            "Successfully built mpi4py\n",
            "Installing collected packages: mpi4py\n",
            "Successfully installed mpi4py-3.1.6\n"
          ]
        }
      ],
      "source": [
        "! pip install mpi4py"
      ]
    },
    {
      "cell_type": "code",
      "source": [
        "%%writefile mpialltoall.py\n",
        "from mpi4py import MPI\n",
        "import numpy as np\n",
        "\n",
        "def main():\n",
        "    comm = MPI.COMM_WORLD\n",
        "    rank = comm.Get_rank()\n",
        "    size = comm.Get_size()\n",
        "\n",
        "    # Создание массива случайных чисел на каждом процессе\n",
        "    data = np.random.randint(0, 100, size=(size, 5))\n",
        "    print(f\"Процесс {rank}: Исходные данные:\\n{data}\\n\")\n",
        "\n",
        "    # Распределение данных между всеми процессами\n",
        "    scattered_data = comm.alltoall(data)\n",
        "\n",
        "    # Обработка данных (например, вычисление среднего значения)\n",
        "    mean_values = np.mean(scattered_data, axis=1)\n",
        "    print(f\"Процесс {rank}: Средние значения:\\n{mean_values}\\n\")\n",
        "\n",
        "    # Сортировка полученных данных\n",
        "    sorted_data = np.sort(scattered_data, axis=1)\n",
        "\n",
        "    # Отправка результатов обратно всем процессам\n",
        "    gathered_data = comm.alltoall(sorted_data)\n",
        "\n",
        "    # Вывод результатов обработки\n",
        "    print(f\"Процесс {rank}: Полученные данные:\\n{gathered_data}\\n\")\n",
        "\n",
        "########## Run the main function\n",
        "main()"
      ],
      "metadata": {
        "colab": {
          "base_uri": "https://localhost:8080/"
        },
        "id": "L80dm2GeYbFG",
        "outputId": "d8b28303-2674-4541-e01c-b699adff2061"
      },
      "execution_count": 2,
      "outputs": [
        {
          "output_type": "stream",
          "name": "stdout",
          "text": [
            "Writing mpialltoall.py\n"
          ]
        }
      ]
    },
    {
      "cell_type": "code",
      "source": [
        "! mpiexec --allow-run-as-root --oversubscribe -np 8 python \"/content/mpialltoall.py\""
      ],
      "metadata": {
        "colab": {
          "base_uri": "https://localhost:8080/"
        },
        "id": "i-UzerGTYb1c",
        "outputId": "543f1cf3-46fb-423b-b197-10c02e500d54"
      },
      "execution_count": 3,
      "outputs": [
        {
          "output_type": "stream",
          "name": "stdout",
          "text": [
            "Процесс 7: Исходные данные:\n",
            "[[93 87 74 15  3]\n",
            " [ 8 69 75 10 11]\n",
            " [60 96  3 50 19]\n",
            " [97 70 97 63 91]\n",
            " [15 62 98 57 15]\n",
            " [29 53 52 25 16]\n",
            " [26 87 91 65 49]\n",
            " [88 83 52 94 96]]\n",
            "\n",
            "Процесс 3: Исходные данные:\n",
            "[[32 59 34 40 30]\n",
            " [ 6 35 58 73  5]\n",
            " [36 52 73 42 96]\n",
            " [43 71 52 62 57]\n",
            " [13 13 52 18 52]\n",
            " [52 47 98 91 93]\n",
            " [52 98  0 76  7]\n",
            " [21 94 99 25 25]]\n",
            "\n",
            "Процесс 0: Исходные данные:\n",
            "[[81 91 17 37 22]\n",
            " [98 14 38 26 37]\n",
            " [26 73 36 17  1]\n",
            " [ 6 22 11 89 31]\n",
            " [73 57 61 56 36]\n",
            " [17  5 65 55 20]\n",
            " [70 22 96 98 74]\n",
            " [18 93 88 30 19]]\n",
            "\n",
            "Процесс 2: Исходные данные:\n",
            "[[74 74 47  7 68]\n",
            " [19 67 40 82 91]\n",
            " [43  1 70 42 15]\n",
            " [49 38 79 67 67]\n",
            " [69 12 38 67 90]\n",
            " [13 81 71 98 18]\n",
            " [91 28 83 95 84]\n",
            " [76 65 17 60 44]]\n",
            "\n",
            "Процесс 4: Исходные данные:\n",
            "[[61 83 79 13 69]\n",
            " [44 85  4 40 96]\n",
            " [20 48 71 52  2]\n",
            " [51 64 26 38 86]\n",
            " [82 63 18 54 37]\n",
            " [77 55 14  1 83]\n",
            " [57 53 84 43 25]\n",
            " [32 76 43  0 38]]\n",
            "\n",
            "Процесс 1: Исходные данные:\n",
            "[[57 75 64 74  5]\n",
            " [86 41 35  4 68]\n",
            " [28 21 58 23 28]\n",
            " [ 0 47 63 52 26]\n",
            " [58  7 91 89 40]\n",
            " [29  8 56 57  2]\n",
            " [20 29 87 72 62]\n",
            " [22 42 58 92 35]]\n",
            "\n",
            "Процесс 6: Исходные данные:\n",
            "[[95 28 10 84 74]\n",
            " [44 18 82 37 75]\n",
            " [89 49 35 62 82]\n",
            " [79 22 66 72 66]\n",
            " [23 52 24 39 96]\n",
            " [99 26 78 63 92]\n",
            " [75 51 10 73 20]\n",
            " [14 34  2 15 80]]\n",
            "\n",
            "Процесс 5: Исходные данные:\n",
            "[[88 67 87 45 64]\n",
            " [26 66  0 93 26]\n",
            " [86 29  3  3 57]\n",
            " [68 18 97 40 29]\n",
            " [18 25 73 54  4]\n",
            " [75 83 55 43 30]\n",
            " [56 74 57  7 28]\n",
            " [ 8 58 56 77 49]]\n",
            "\n",
            "Процесс 5: Средние значения:\n",
            "[32.4 30.4 56.2 76.2 46.  57.2 71.6 35. ]\n",
            "Процесс 6: Средние значения:\n",
            "[72.  54.  76.2 46.6 52.4 44.4 45.8 63.6]\n",
            "Процесс 7: Средние значения:\n",
            "[49.6 49.8 52.4 52.8 37.8 49.6 29.  82.6]\n",
            "Процесс 1: Средние значения:\n",
            "[42.6 46.8 59.8 35.4 53.8 42.2 51.2 34.6]\n",
            "\n",
            "\n",
            "Процесс 2: Средние значения:\n",
            "[30.6 31.6 34.2 59.8 38.6 35.6 63.4 45.6]\n",
            "Процесс 0: Средние значения:\n",
            "[49.6 55.  54.  39.  61.  70.2 58.2 54.4]\n",
            "\n",
            "Процесс 4: Средние значения:\n",
            "[56.6 57.  55.2 29.6 50.8 34.8 46.8 49.4]\n",
            "\n",
            "Процесс 3: Средние значения:\n",
            "[31.8 37.6 60.  57.  53.  50.4 61.  83.6]\n",
            "\n",
            "\n",
            "\n",
            "\n",
            "Процесс 5: Полученные данные:\n",
            "[array([45, 64, 67, 87, 88]), array([ 0, 26, 26, 66, 93]), array([ 3,  3, 29, 57, 86]), array([18, 29, 40, 68, 97]), array([ 4, 18, 25, 54, 73]), array([30, 43, 55, 75, 83]), array([ 7, 28, 56, 57, 74]), array([ 8, 49, 56, 58, 77])]\n",
            "Процесс 0: Полученные данные:\n",
            "[array([17, 22, 37, 81, 91]), array([14, 26, 37, 38, 98]), array([ 1, 17, 26, 36, 73]), array([ 6, 11, 22, 31, 89]), array([36, 56, 57, 61, 73]), array([ 5, 17, 20, 55, 65]), array([22, 70, 74, 96, 98]), array([18, 19, 30, 88, 93])]\n",
            "\n",
            "Процесс 6: Полученные данные:\n",
            "[array([10, 28, 74, 84, 95]), array([18, 37, 44, 75, 82]), array([35, 49, 62, 82, 89]), array([22, 66, 66, 72, 79]), array([23, 24, 39, 52, 96]), array([26, 63, 78, 92, 99]), array([10, 20, 51, 73, 75]), array([ 2, 14, 15, 34, 80])]\n",
            "\n",
            "Процесс 3: Полученные данные:\n",
            "[array([30, 32, 34, 40, 59]), array([ 5,  6, 35, 58, 73]), array([36, 42, 52, 73, 96]), array([43, 52, 57, 62, 71]), array([13, 13, 18, 52, 52]), array([47, 52, 91, 93, 98]), array([ 0,  7, 52, 76, 98]), array([21, 25, 25, 94, 99])]\n",
            "\n",
            "Процесс 2: Полученные данные:\n",
            "[array([ 7, 47, 68, 74, 74]), array([19, 40, 67, 82, 91]), array([ 1, 15, 42, 43, 70]), array([38, 49, 67, 67, 79]), array([12, 38, 67, 69, 90]), array([13, 18, 71, 81, 98]), array([28, 83, 84, 91, 95]), array([17, 44, 60, 65, 76])]\n",
            "Процесс 7: Полученные данные:\n",
            "[array([ 3, 15, 74, 87, 93]), array([ 8, 10, 11, 69, 75]), array([ 3, 19, 50, 60, 96]), array([63, 70, 91, 97, 97]), array([15, 15, 57, 62, 98]), array([16, 25, 29, 52, 53]), array([26, 49, 65, 87, 91]), array([52, 83, 88, 94, 96])]\n",
            "\n",
            "Процесс 1: Полученные данные:\n",
            "[array([ 5, 57, 64, 74, 75]), array([ 4, 35, 41, 68, 86]), array([21, 23, 28, 28, 58]), array([ 0, 26, 47, 52, 63]), array([ 7, 40, 58, 89, 91]), array([ 2,  8, 29, 56, 57]), array([20, 29, 62, 72, 87]), array([22, 35, 42, 58, 92])]\n",
            "\n",
            "\n",
            "\n",
            "Процесс 4: Полученные данные:\n",
            "[array([13, 61, 69, 79, 83]), array([ 4, 40, 44, 85, 96]), array([ 2, 20, 48, 52, 71]), array([26, 38, 51, 64, 86]), array([18, 37, 54, 63, 82]), array([ 1, 14, 55, 77, 83]), array([25, 43, 53, 57, 84]), array([ 0, 32, 38, 43, 76])]\n",
            "\n"
          ]
        }
      ]
    },
    {
      "cell_type": "code",
      "source": [],
      "metadata": {
        "id": "qU1k3Gircf5o"
      },
      "execution_count": null,
      "outputs": []
    }
  ]
}