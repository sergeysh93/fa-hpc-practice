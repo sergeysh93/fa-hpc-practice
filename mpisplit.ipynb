{
  "nbformat": 4,
  "nbformat_minor": 0,
  "metadata": {
    "colab": {
      "provenance": [],
      "mount_file_id": "1OPLPXWQiMCIcMGS-CxnTsOMy50uTkZcL",
      "authorship_tag": "ABX9TyPu3FTKhVms6kxI7QqxdpNo",
      "include_colab_link": true
    },
    "kernelspec": {
      "name": "python3",
      "display_name": "Python 3"
    },
    "language_info": {
      "name": "python"
    }
  },
  "cells": [
    {
      "cell_type": "markdown",
      "metadata": {
        "id": "view-in-github",
        "colab_type": "text"
      },
      "source": [
        "<a href=\"https://colab.research.google.com/github/sergeysh93/fa-hpc-practice/blob/master/mpisplit.ipynb\" target=\"_parent\"><img src=\"https://colab.research.google.com/assets/colab-badge.svg\" alt=\"Open In Colab\"/></a>"
      ]
    },
    {
      "cell_type": "code",
      "execution_count": null,
      "metadata": {
        "colab": {
          "base_uri": "https://localhost:8080/"
        },
        "id": "IWGFafTqTYXD",
        "outputId": "3882c755-28ef-4983-de14-2139f5864c29"
      },
      "outputs": [
        {
          "output_type": "stream",
          "name": "stdout",
          "text": [
            "Requirement already satisfied: mpi4py in /usr/local/lib/python3.10/dist-packages (3.1.6)\n"
          ]
        }
      ],
      "source": [
        "! pip install mpi4py"
      ]
    },
    {
      "cell_type": "code",
      "source": [
        "%%writefile mpisplit.py\n",
        "from mpi4py import MPI\n",
        "\n",
        "def ring_communicate(comm):\n",
        "    rank = comm.Get_rank()\n",
        "    size = comm.Get_size()\n",
        "    left_neighbor = (rank - 1) % size\n",
        "    right_neighbor = (rank + 1) % size\n",
        "\n",
        "    print(size, left_neighbor, rank, right_neighbor)\n",
        "    data = 999\n",
        "    if rank != 0:\n",
        "      comm.recv(data, source=left_neighbor)\n",
        "      print(f\"G1.{rank}: {data} recieved from {left_neighbor}, sent to {right_neighbor}\")\n",
        "    comm.send(data, dest=right_neighbor)\n",
        "\n",
        "def master_worker_communicate(comm):\n",
        "    rank = comm.Get_rank()\n",
        "    size = comm.Get_size()\n",
        "\n",
        "    if rank == 0:\n",
        "        # Мастер процесс\n",
        "        data_to_send = list(range(1, size))\n",
        "        for worker_rank in range(1, size):\n",
        "            comm.send(data_to_send, dest=worker_rank)\n",
        "        print(f\"G2.{rank} data sent\")\n",
        "    else:\n",
        "        # Рабочий процесс\n",
        "        data_received = comm.recv(source=0)\n",
        "        print(f\"G2.{rank} data recieved: {data_received}\")\n",
        "\n",
        "def main():\n",
        "    comm = MPI.COMM_WORLD\n",
        "    rank = comm.Get_rank()\n",
        "    size = comm.Get_size()\n",
        "\n",
        "    # Разбиение процессов на две группы\n",
        "    group1 = comm.Get_group().Incl(list(range(0, size // 2)))\n",
        "    group2 = comm.Get_group().Incl(list(range(size // 2, size)))\n",
        "\n",
        "    # Создание коммуникаторов для каждой группы\n",
        "    comm_group1 = comm.Create(group1)\n",
        "    comm_group2 = comm.Create(group2)\n",
        "\n",
        "    if comm_group1 != MPI.COMM_NULL:\n",
        "        print(f\"G1: {comm_group1.rank} / {comm_group1.size}\")\n",
        "        ring_communicate(comm_group1)\n",
        "        comm_group1.Free()\n",
        "    if comm_group2 != MPI.COMM_NULL:\n",
        "        print(f\"G2: {comm_group2.rank} / {comm_group2.size}\")\n",
        "        master_worker_communicate(comm_group2)\n",
        "        comm_group2.Free()\n",
        "\n",
        "\n",
        "if __name__ == \"__main__\":\n",
        "    main()"
      ],
      "metadata": {
        "colab": {
          "base_uri": "https://localhost:8080/"
        },
        "id": "L80dm2GeYbFG",
        "outputId": "2af18503-fde8-4b91-c5be-7402f93bf70c"
      },
      "execution_count": null,
      "outputs": [
        {
          "output_type": "stream",
          "name": "stdout",
          "text": [
            "Overwriting mpisplit.py\n"
          ]
        }
      ]
    },
    {
      "cell_type": "code",
      "source": [
        "! mpiexec --allow-run-as-root --oversubscribe -np 8 python \"/content/mpisplit.py\""
      ],
      "metadata": {
        "colab": {
          "base_uri": "https://localhost:8080/"
        },
        "id": "i-UzerGTYb1c",
        "outputId": "ffd9b412-9b49-4d50-d340-72f36f408596"
      },
      "execution_count": null,
      "outputs": [
        {
          "output_type": "stream",
          "name": "stdout",
          "text": [
            "G1: 0 / 4\n",
            "G1: 1 / 4\n",
            "4 0 1 2\n",
            "G1: 3 / 4\n",
            "G1: 2 / 4\n",
            "4 3 0 1\n",
            "4 1 2 3\n",
            "4 2 3 0\n",
            "/content/mpisplit.py:12: UserWarning: the 'buf' argument is deprecated\n",
            "  comm.recv(data, source=left_neighbor)\n",
            "G1.1: 999 recieved from 0, sent to 2\n",
            "G2: 1 / 4\n",
            "G2: 0 / 4\n",
            "G2.0 data sent\n",
            "G2: 2 / 4\n",
            "G2.2 data recieved: [1, 2, 3]\n",
            "G2: 3 / 4\n",
            "G2.3 data recieved: [1, 2, 3]\n",
            "G2.1 data recieved: [1, 2, 3]\n",
            "/content/mpisplit.py:12: UserWarning: the 'buf' argument is deprecated\n",
            "  comm.recv(data, source=left_neighbor)\n",
            "/content/mpisplit.py:12: UserWarning: the 'buf' argument is deprecated\n",
            "  comm.recv(data, source=left_neighbor)\n",
            "G1.2: 999 recieved from 1, sent to 3\n",
            "G1.3: 999 recieved from 2, sent to 0\n"
          ]
        }
      ]
    },
    {
      "cell_type": "code",
      "source": [],
      "metadata": {
        "id": "qU1k3Gircf5o"
      },
      "execution_count": null,
      "outputs": []
    }
  ]
}